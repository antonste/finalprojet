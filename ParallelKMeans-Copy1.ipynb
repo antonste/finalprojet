{
 "cells": [
  {
   "cell_type": "markdown",
   "metadata": {},
   "source": [
    "# Parallel KMeans implementation\n",
    "Based on J. Y. Q. H. Z. W. a. J. C. Bowen Wang, “Parallelizing K-means-based Clustering on Spark,” International Conference on Advanced Cloud and Big Data, 2016. \n",
    "\n",
    "## Parallel partition based algorithm outline\n",
    "1. Initialize centroids by randomly selecting k points from the data set. Broadcast selected centroids to all nodes\n",
    "1. While centrodis still changing:\n",
    "    1. For each partition do locally:\n",
    "        1. For each point in partition:\n",
    "            1. Compute distance to all centroids\n",
    "            1. Asign closest cluster\n",
    "        1. For each cluster in partition:\n",
    "            1. Compute local mean\n",
    "    1. Compute mean for each cluster for each partition\n",
    "\n",
    "\n",
    "## Adaptations made to sugested implementation of the algorithm:\n",
    "1. The authors suggest using SparseVector, with chosen data sets it is better to use regular arrys\n",
    "1. We use random sample for centroids initialization as described in *Scalable K-Means++* because quality of inital centrods has a major effect on quality\n",
    "1. We use crisp clustring only i. e. each point can be a member of one cluster only"
   ]
  },
  {
   "cell_type": "code",
   "execution_count": 1,
   "metadata": {},
   "outputs": [],
   "source": [
    "import random \n",
    "from numpy import array\n",
    "import numpy as np\n",
    "import matplotlib.pyplot as plt\n",
    "\n",
    "# For reproducability of results\n",
    "RANDOM_SEED = 202020\n",
    "\n",
    "%matplotlib inline"
   ]
  },
  {
   "cell_type": "markdown",
   "metadata": {},
   "source": [
    "### Import and parse data set"
   ]
  },
  {
   "cell_type": "code",
   "execution_count": 2,
   "metadata": {},
   "outputs": [
    {
     "data": {
      "text/plain": [
       "[array([53920., 42968.]),\n",
       " array([52019., 42206.]),\n",
       " array([52570., 42476.]),\n",
       " array([54220., 42081.]),\n",
       " array([54268., 43420.])]"
      ]
     },
     "execution_count": 2,
     "metadata": {},
     "output_type": "execute_result"
    }
   ],
   "source": [
    "data = sc.textFile(\"a3.txt\")\n",
    "parsed_data = data.map(lambda line: array([float(x) for x in line.strip().split()]))\n",
    "\n",
    "parsed_data.take(5)"
   ]
  },
  {
   "cell_type": "code",
   "execution_count": 3,
   "metadata": {},
   "outputs": [],
   "source": [
    "# Store centroids in shared variable, this way all the centroids available localy for each slave\n",
    "centroids = sc.broadcast(parsed_data.takeSample(False, 50, seed=RANDOM_SEED))"
   ]
  },
  {
   "cell_type": "code",
   "execution_count": 18,
   "metadata": {},
   "outputs": [],
   "source": [
    "def euclidean_dist(v1, v2):\n",
    "    return np.linalg.norm(v1-v2)\n",
    "    \n",
    "def closest_centroid(point, centroids):\n",
    "    # for dense data, we use euclidean distance\n",
    "    centroid_dist_pairs = map(lambda centroid: (centroid, euclidean_dist(point, centroid)), centroids)\n",
    "    return min(centroid_dist_pairs, key=lambda centroid_dist: centroid_dist[1])\n",
    "\n",
    "def closest_centroids_partition_processing(partition, centroids):\n",
    "    print(partition)\n",
    "    distances = map(lambda point: (point, closest_centroid(point, centroids)), partition)\n",
    "    return distances\n",
    "\n",
    "def closest_centroids(data, centroids):\n",
    "    # returns rdd of tuples (array[x,y], distance to c)\n",
    "    result = data.mapPartitions(lambda partition: closest_centroids_partition_processing(partition, centroids.value))\n",
    "    return result"
   ]
  },
  {
   "cell_type": "markdown",
   "metadata": {},
   "source": [
    "### Distance function test"
   ]
  },
  {
   "cell_type": "code",
   "execution_count": 19,
   "metadata": {},
   "outputs": [
    {
     "name": "stdout",
     "output_type": "stream",
     "text": [
      "[40798. 29933.]\n",
      "[(array([53920., 42968.]), (array([59795., 44489.]), 6068.695576480995)), (array([52019., 42206.]), (array([50193., 49198.]), 7226.502611914009)), (array([52570., 42476.]), (array([50193., 49198.]), 7129.895721537588)), (array([54220., 42081.]), (array([59795., 44489.]), 6072.815574344408)), (array([54268., 43420.]), (array([59795., 44489.]), 5629.430699457984)), (array([52288., 42408.]), (array([50193., 49198.]), 7105.851461999469)), (array([54436., 39727.]), (array([55951., 35172.]), 4800.338529728919)), (array([52391., 44323.]), (array([50193., 49198.]), 5347.600302939628)), (array([54995., 43655.]), (array([59795., 44489.]), 4871.915023889476)), (array([53761., 43403.]), (array([59795., 44489.]), 6130.950334165169))]\n"
     ]
    },
    {
     "data": {
      "text/plain": [
       "<matplotlib.collections.PathCollection at 0x7fd93c1de5f8>"
      ]
     },
     "execution_count": 19,
     "metadata": {},
     "output_type": "execute_result"
    },
    {
     "data": {
      "image/png": "[encoded data removed]",
      "text/plain": [
       "<Figure size 720x720 with 1 Axes>"
      ]
     },
     "metadata": {
      "needs_background": "light"
     },
     "output_type": "display_data"
    }
   ],
   "source": [
    "fig = plt.figure(figsize=(10, 10))\n",
    "ax1 = fig.add_subplot(111)\n",
    "\n",
    "xd, yd = zip(*centroids.value)\n",
    "test_point = parsed_data.takeSample(False, 1)[0]\n",
    "\n",
    "print(test_point)\n",
    "\n",
    "result = closest_centroids(parsed_data, centroids)\n",
    "print(result.take(10))\n",
    "\n",
    "ax1.scatter(xd, yd, s=25, c='b', marker=\"s\")\n",
    "#ax1.scatter([x], [y], s=15, c='r', marker=\"o\")\n",
    "#ax1.scatter([test_point[0]], [test_point[1]], s=25, c='g', marker=\"o\")"
   ]
  },
  {
   "cell_type": "code",
   "execution_count": null,
   "metadata": {},
   "outputs": [],
   "source": [
    "np.zeros((5,7))"
   ]
  },
  {
   "cell_type": "code",
   "execution_count": null,
   "metadata": {},
   "outputs": [],
   "source": [
    "def pkmeans(data, n, max_iterations=150, stop_distance=0.1):\n",
    "    # Initiate centroids\n",
    "    centroids = sc.broadcast(data.takeSample(False, n, seed=RANDOM_SEED))\n",
    "    iteration_ct = 0\n",
    "    dist = np.inf\n",
    "    print(centroids.value)\n",
    "    \n",
    "    while dist > stop_distance and iteration_ct < max_iterations:\n",
    "        # Compute distance between all instaces and all centroids\n",
    "        for i in range(n):\n",
    "            \n",
    "        \n",
    "        # Update centroids\n",
    "        iteration_ct += 1\n",
    "\n",
    "pkmeans(parsed_data, 50)\n",
    "\n",
    "    "
   ]
  }
 ],
 "metadata": {
  "kernelspec": {
   "display_name": "Python 3",
   "language": "python",
   "name": "python3"
  },
  "language_info": {
   "codemirror_mode": {
    "name": "ipython",
    "version": 3
   },
   "file_extension": ".py",
   "mimetype": "text/x-python",
   "name": "python",
   "nbconvert_exporter": "python",
   "pygments_lexer": "ipython3",
   "version": "3.6.9"
  }
 },
 "nbformat": 4,
 "nbformat_minor": 4
}
