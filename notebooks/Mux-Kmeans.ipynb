{
 "cells": [
  {
   "cell_type": "code",
   "execution_count": 4,
   "id": "b8a6d2e6-a9e9-4ed5-8575-bb6a609ed720",
   "metadata": {},
   "outputs": [],
   "source": [
    "import os\n",
    "from pyspark.sql import SparkSession\n",
    "from pyspark.ml.clustering import KMeans\n",
    "from pyspark.ml.linalg import Vectors\n",
    "import numpy as np\n",
    "import random"
   ]
  },
  {
   "cell_type": "code",
   "execution_count": 6,
   "id": "5beccd06-3574-4803-bd4a-eaef70ab24b6",
   "metadata": {},
   "outputs": [],
   "source": [
    "# Initialize Spark session\n",
    "spark = SparkSession.builder \\\n",
    "    .appName(\"Mux-Kmeans\") \\\n",
    "    .getOrCreate()\n",
    "\n",
    "sc = spark.sparkContext\n",
    "\n",
    "# Function to calculate TWCV\n",
    "def calculate_twcv(clusters, centroids):\n",
    "    twcv = 0\n",
    "    for point, cluster_id in clusters:\n",
    "        twcv += np.linalg.norm(point - centroids[cluster_id])**2\n",
    "    return twcv\n",
    "\n",
    "# Function for RSDS strategy\n",
    "def rsds(centroids, clusters):\n",
    "    new_centroids = []\n",
    "    for cluster_points in clusters:\n",
    "        dense_center = np.mean(cluster_points, axis=0)\n",
    "        radius = np.min([np.linalg.norm(dense_center - c) for c in centroids])\n",
    "        random_point = dense_center + np.random.uniform(-radius, radius, size=len(dense_center))\n",
    "        new_centroids.append(random_point)\n",
    "    return new_centroids\n",
    "\n",
    "# Function for ADGP strategy\n",
    "def adgp(centroids):\n",
    "    new_centroids = []\n",
    "    for i, c1 in enumerate(centroids):\n",
    "        for j, c2 in enumerate(centroids):\n",
    "            if i != j:\n",
    "                midpoint = (c1 + c2) / 2\n",
    "                new_centroids.append(midpoint)\n",
    "    return random.sample(new_centroids, len(centroids))"
   ]
  },
  {
   "cell_type": "code",
   "execution_count": 13,
   "id": "81b3d4f7-c610-490b-a6d6-b0f1ec08e7fe",
   "metadata": {},
   "outputs": [
    {
     "data": {
      "text/plain": [
       "[array([53769., 43786.]),\n",
       " array([52883., 41365.]),\n",
       " array([54448., 42846.]),\n",
       " array([53358., 40498.]),\n",
       " array([54626., 43461.])]"
      ]
     },
     "execution_count": 13,
     "metadata": {},
     "output_type": "execute_result"
    }
   ],
   "source": [
    "A3_DATASET_URL = \"https://cs.joensuu.fi/sipu/datasets/a3.txt\"\n",
    "DATA_FOLDER = \"/home/jovyan/work/data\"\n",
    "A3_LOCAL_PATH = os.path.join(DATA_FOLDER, \"a3.txt\")\n",
    "\n",
    "k = 50  # Number of clusters\n",
    "s = 10  # Number of centroid groups\n",
    "max_iterations = 10\n",
    "num_partitions = 10\n",
    "\n",
    "\n",
    "# Download Data\n",
    "if not os.path.exists(A3_LOCAL_PATH):\n",
    "    with open(A3_LOCAL_PATH, 'wb') as file:\n",
    "        response = requests.get(A3_DATASET_URL)\n",
    "        file.write(response.content)\n",
    "\n",
    "# Load clean data into spark\n",
    "data = sc.textFile(A3_LOCAL_PATH)\n",
    "parsed_data = data.map(lambda row: np.array([float(x) for x in row.strip().split()])).repartition(num_partitions).cache()\n",
    "\n",
    "parsed_data.take(5)"
   ]
  },
  {
   "cell_type": "code",
   "execution_count": 14,
   "id": "ce628202-caa3-4a42-87a2-994631eeacdd",
   "metadata": {},
   "outputs": [
    {
     "ename": "AttributeError",
     "evalue": "'KMeans' object has no attribute 'setInitialModel'",
     "output_type": "error",
     "traceback": [
      "\u001b[0;31m---------------------------------------------------------------------------\u001b[0m",
      "\u001b[0;31mAttributeError\u001b[0m                            Traceback (most recent call last)",
      "Cell \u001b[0;32mIn[14], line 11\u001b[0m\n\u001b[1;32m      9\u001b[0m \u001b[38;5;66;03m# Step 1: Run KMeans for all centroid groups\u001b[39;00m\n\u001b[1;32m     10\u001b[0m \u001b[38;5;28;01mfor\u001b[39;00m centroids \u001b[38;5;129;01min\u001b[39;00m initial_centroids_groups:\n\u001b[0;32m---> 11\u001b[0m     kmeans \u001b[38;5;241m=\u001b[39m \u001b[43mKMeans\u001b[49m\u001b[43m(\u001b[49m\u001b[43mk\u001b[49m\u001b[38;5;241;43m=\u001b[39;49m\u001b[43mk\u001b[49m\u001b[43m,\u001b[49m\u001b[43m \u001b[49m\u001b[43minitMode\u001b[49m\u001b[38;5;241;43m=\u001b[39;49m\u001b[38;5;124;43m\"\u001b[39;49m\u001b[38;5;124;43mk-means||\u001b[39;49m\u001b[38;5;124;43m\"\u001b[39;49m\u001b[43m)\u001b[49m\u001b[38;5;241;43m.\u001b[39;49m\u001b[43msetInitialModel\u001b[49m(centroids)\n\u001b[1;32m     12\u001b[0m     model \u001b[38;5;241m=\u001b[39m kmeans\u001b[38;5;241m.\u001b[39mfit(data)\n\u001b[1;32m     13\u001b[0m     clusters \u001b[38;5;241m=\u001b[39m model\u001b[38;5;241m.\u001b[39mtransform(data)\u001b[38;5;241m.\u001b[39mcollect()\n",
      "\u001b[0;31mAttributeError\u001b[0m: 'KMeans' object has no attribute 'setInitialModel'"
     ]
    }
   ],
   "source": [
    "\n",
    "\n",
    "# Initialize multiple centroid groups\n",
    "initial_centroids_groups = [np.random.rand(k, parsed_data.first().size) for _ in range(s)]\n",
    "\n",
    "# Main Mux-Kmeans loop\n",
    "for iteration in range(max_iterations):\n",
    "    twcv_scores = []\n",
    "    new_centroids_groups = []\n",
    "\n",
    "    # Step 1: Run KMeans for all centroid groups\n",
    "    for centroids in initial_centroids_groups:\n",
    "        kmeans = KMeans(k=k, initMode=\"k-means||\").setInitialModel(centroids)\n",
    "        model = kmeans.fit(data)\n",
    "        clusters = model.transform(data).collect()\n",
    "        twcv = calculate_twcv(clusters, centroids)\n",
    "        twcv_scores.append((centroids, twcv))\n",
    "    \n",
    "    # Step 2: Prune half of the centroid groups\n",
    "    twcv_scores.sort(key=lambda x: x[1])\n",
    "    best_centroid_groups = [x[0] for x in twcv_scores[:s // 2]]\n",
    "    \n",
    "    # Step 3: Permute and Incubate\n",
    "    for centroids in best_centroid_groups:\n",
    "        # Choose RSDS or ADGP\n",
    "        if iteration % 2 == 0:  # Alternate between strategies\n",
    "            new_centroids = rsds(centroids, clusters)\n",
    "        else:\n",
    "            new_centroids = adgp(centroids)\n",
    "        new_centroids_groups.append(new_centroids)\n",
    "    \n",
    "    # Update centroids for the next iteration\n",
    "    initial_centroids_groups = best_centroid_groups + new_centroids_groups\n",
    "\n",
    "# Select the best centroid group after iterations\n",
    "final_model = min(twcv_scores, key=lambda x: x[1])\n",
    "print(f\"Best TWCV: {final_model[1]}\")"
   ]
  }
 ],
 "metadata": {
  "kernelspec": {
   "display_name": "Python 3 (ipykernel)",
   "language": "python",
   "name": "python3"
  },
  "language_info": {
   "codemirror_mode": {
    "name": "ipython",
    "version": 3
   },
   "file_extension": ".py",
   "mimetype": "text/x-python",
   "name": "python",
   "nbconvert_exporter": "python",
   "pygments_lexer": "ipython3",
   "version": "3.11.8"
  }
 },
 "nbformat": 4,
 "nbformat_minor": 5
}
