{
 "cells": [
  {
   "cell_type": "markdown",
   "id": "a2973f00-f3b9-432a-a076-a22965441403",
   "metadata": {},
   "source": [
    "# Parallel KMeans implementation\n",
    "Based on J. Y. Q. H. Z. W. a. J. C. Bowen Wang, “Parallelizing K-means-based Clustering on Spark,” International Conference on Advanced Cloud and Big Data, 2016. \n",
    "\n",
    "## Parallel partition-based algorithm outline\n",
    "1. Initialize centroids by randomly selecting k points from the data set. Broadcast selected centroids to all nodes\n",
    "1. While centroids are moving:\n",
    "    1. Broadcast current centroids\n",
    "    1. For each point\n",
    "        1. Compute the distance to all centroids\n",
    "        1. Asign the closest cluster\n",
    "    1. For each cluster\n",
    "        1. Compute local mean\n",
    "    1. Compute the mean for each cluster for each partition\n",
    " \n",
    "\n",
    "## Adaptations made to suggested implementation of the algorithm:\n",
    "1. The authors suggest using SparseVector, with chosen data sets it is better to use regular arrays\n",
    "1. We use the random sample for centroids initialization as described in *Scalable K-Means++* because the quality of initial centroids has a major effect on the quality\n",
    "1. We use crisp clustering only i. e. each point can be a member of one cluster only\n",
    "1. We use Euclidian data because it is the recommended distance function for dense data.\n",
    "\n",
    "## Description of production cluster on Azure:\n",
    "We are using Azure HDIsight in order to run a spark cluster. We are using a cluster with the following configuration:\n",
    "* two master nodes Standard_D12_V2 4 CPU Cores 28GB RAM\n",
    "* eight slave nodes Standard_D13_V2 8 CPU Cores 56GB RAM\n"
   ]
  },
  {
   "cell_type": "code",
   "execution_count": 1,
   "id": "fdfeb303-1bd0-431f-a3d2-28976e61e188",
   "metadata": {},
   "outputs": [],
   "source": [
    "import os\n",
    "import requests\n",
    "import time\n",
    "from pprint import pprint\n",
    "\n",
    "from numpy import array\n",
    "import numpy as np\n",
    "import pandas as pd\n",
    "from itertools import groupby"
   ]
  },
  {
   "cell_type": "code",
   "execution_count": 2,
   "id": "83db861f-d4bf-47bb-876b-7521b6959d44",
   "metadata": {},
   "outputs": [
    {
     "name": "stderr",
     "output_type": "stream",
     "text": [
      "Setting default log level to \"WARN\".\n",
      "To adjust logging level use sc.setLogLevel(newLevel). For SparkR, use setLogLevel(newLevel).\n",
      "24/11/29 14:54:12 WARN NativeCodeLoader: Unable to load native-hadoop library for your platform... using builtin-java classes where applicable\n",
      "24/11/29 14:54:12 WARN Utils: Service 'SparkUI' could not bind on port 4040. Attempting port 4041.\n"
     ]
    }
   ],
   "source": [
    "from pyspark.sql import DataFrame, SparkSession\n",
    "from pyspark.sql.functions import split, col, size, trim, lit\n",
    "from pyspark.ml.linalg import Vectors, DenseVector\n",
    "\n",
    "# Initialize a Spark session\n",
    "spark = SparkSession.builder \\\n",
    "    .appName(\"FirstSparkJob\") \\\n",
    "    .master(\"spark://spark-master:7077\") \\\n",
    "    .getOrCreate()\n",
    "\n",
    "sc = spark.sparkContext"
   ]
  },
  {
   "cell_type": "code",
   "execution_count": 3,
   "id": "fc909081-dda9-4d35-bece-f8042a2fb5e6",
   "metadata": {},
   "outputs": [],
   "source": [
    "RANDOM_SEED = 301191\n",
    "K = 50 "
   ]
  },
  {
   "cell_type": "code",
   "execution_count": 4,
   "id": "f3db894d-cccf-4a1b-a0bc-32217ea92707",
   "metadata": {},
   "outputs": [],
   "source": [
    "A3_DATASET_URL = \"https://cs.joensuu.fi/sipu/datasets/a3.txt\"\n",
    "DATA_FOLDER = \"/home/jovyan/work/data\"\n",
    "A3_LOCAL_PATH = os.path.join(DATA_FOLDER, \"a3.txt\")"
   ]
  },
  {
   "cell_type": "code",
   "execution_count": 5,
   "id": "d6624026-8d8d-4fa2-b83b-b0e75f8b5877",
   "metadata": {},
   "outputs": [],
   "source": [
    "# Download Data\n",
    "response = requests.get(A3_DATASET_URL)\n",
    "if not os.path.exists(A3_LOCAL_PATH):\n",
    "    with open(A3_LOCAL_PATH, 'wb') as file:\n",
    "        file.write(response.content)"
   ]
  },
  {
   "cell_type": "code",
   "execution_count": 6,
   "id": "ee18c992-3aa5-4e44-8377-4539c97d92cd",
   "metadata": {},
   "outputs": [
    {
     "name": "stderr",
     "output_type": "stream",
     "text": [
      "                                                                                \r"
     ]
    },
    {
     "data": {
      "text/plain": [
       "[DenseVector([53920.0, 42968.0]),\n",
       " DenseVector([52019.0, 42206.0]),\n",
       " DenseVector([52570.0, 42476.0]),\n",
       " DenseVector([54220.0, 42081.0]),\n",
       " DenseVector([54268.0, 43420.0])]"
      ]
     },
     "execution_count": 6,
     "metadata": {},
     "output_type": "execute_result"
    }
   ],
   "source": [
    "# Load clean data into spark\n",
    "data = sc.textFile(A3_LOCAL_PATH)\n",
    "parsed_data = data.map(lambda row: Vectors.dense([float(x) for x in row.strip().split()]))\n",
    "parsed_data.cache()\n",
    "\n",
    "parsed_data.take(5)"
   ]
  },
  {
   "cell_type": "code",
   "execution_count": 7,
   "id": "68610ba5-a86d-4234-bdee-074e930242c6",
   "metadata": {},
   "outputs": [
    {
     "name": "stderr",
     "output_type": "stream",
     "text": [
      "                                                                                \r"
     ]
    },
    {
     "name": "stdout",
     "output_type": "stream",
     "text": [
      "Iteration:0\tShifts:99201.44807107747\ttime taken:1.3361728191375732\n"
     ]
    },
    {
     "name": "stderr",
     "output_type": "stream",
     "text": [
      "                                                                                \r"
     ]
    },
    {
     "name": "stdout",
     "output_type": "stream",
     "text": [
      "Iteration:1\tShifts:54617.94960414767\ttime taken:1.193866491317749\n"
     ]
    },
    {
     "name": "stderr",
     "output_type": "stream",
     "text": [
      "                                                                                \r"
     ]
    },
    {
     "name": "stdout",
     "output_type": "stream",
     "text": [
      "Iteration:2\tShifts:40523.517798017914\ttime taken:1.2035140991210938\n"
     ]
    },
    {
     "name": "stderr",
     "output_type": "stream",
     "text": [
      "                                                                                \r"
     ]
    },
    {
     "name": "stdout",
     "output_type": "stream",
     "text": [
      "Iteration:3\tShifts:25362.289023665504\ttime taken:1.172621488571167\n"
     ]
    },
    {
     "name": "stderr",
     "output_type": "stream",
     "text": [
      "                                                                                \r"
     ]
    },
    {
     "name": "stdout",
     "output_type": "stream",
     "text": [
      "Iteration:4\tShifts:11000.387704176874\ttime taken:1.1952300071716309\n"
     ]
    },
    {
     "name": "stderr",
     "output_type": "stream",
     "text": [
      "                                                                                \r"
     ]
    },
    {
     "name": "stdout",
     "output_type": "stream",
     "text": [
      "Iteration:5\tShifts:6497.186213828603\ttime taken:1.1741623878479004\n"
     ]
    },
    {
     "name": "stderr",
     "output_type": "stream",
     "text": [
      "                                                                                \r"
     ]
    },
    {
     "name": "stdout",
     "output_type": "stream",
     "text": [
      "Iteration:6\tShifts:6869.9934584883595\ttime taken:1.1673972606658936\n"
     ]
    },
    {
     "name": "stderr",
     "output_type": "stream",
     "text": [
      "                                                                                \r"
     ]
    },
    {
     "name": "stdout",
     "output_type": "stream",
     "text": [
      "Iteration:7\tShifts:7119.877989995151\ttime taken:1.1781284809112549\n"
     ]
    },
    {
     "name": "stderr",
     "output_type": "stream",
     "text": [
      "                                                                                \r"
     ]
    },
    {
     "name": "stdout",
     "output_type": "stream",
     "text": [
      "Iteration:8\tShifts:3721.4249959397953\ttime taken:1.2048139572143555\n"
     ]
    },
    {
     "name": "stderr",
     "output_type": "stream",
     "text": [
      "                                                                                \r"
     ]
    },
    {
     "name": "stdout",
     "output_type": "stream",
     "text": [
      "Iteration:9\tShifts:4152.544461369848\ttime taken:1.2124803066253662\n"
     ]
    },
    {
     "name": "stderr",
     "output_type": "stream",
     "text": [
      "                                                                                \r"
     ]
    },
    {
     "name": "stdout",
     "output_type": "stream",
     "text": [
      "Iteration:10\tShifts:2476.2542813102345\ttime taken:1.2431485652923584\n"
     ]
    },
    {
     "name": "stderr",
     "output_type": "stream",
     "text": [
      "                                                                                \r"
     ]
    },
    {
     "name": "stdout",
     "output_type": "stream",
     "text": [
      "Iteration:11\tShifts:1091.7179733225294\ttime taken:1.1827785968780518\n"
     ]
    },
    {
     "name": "stderr",
     "output_type": "stream",
     "text": [
      "                                                                                \r"
     ]
    },
    {
     "name": "stdout",
     "output_type": "stream",
     "text": [
      "Iteration:12\tShifts:451.7914874060283\ttime taken:1.155297040939331\n"
     ]
    },
    {
     "name": "stderr",
     "output_type": "stream",
     "text": [
      "                                                                                \r"
     ]
    },
    {
     "name": "stdout",
     "output_type": "stream",
     "text": [
      "Iteration:13\tShifts:298.88771030647627\ttime taken:1.1498589515686035\n"
     ]
    },
    {
     "name": "stderr",
     "output_type": "stream",
     "text": [
      "                                                                                \r"
     ]
    },
    {
     "name": "stdout",
     "output_type": "stream",
     "text": [
      "Iteration:14\tShifts:149.09461400727525\ttime taken:1.190490484237671\n"
     ]
    },
    {
     "name": "stderr",
     "output_type": "stream",
     "text": [
      "                                                                                \r"
     ]
    },
    {
     "name": "stdout",
     "output_type": "stream",
     "text": [
      "Iteration:15\tShifts:125.7231844690503\ttime taken:1.239217758178711\n"
     ]
    },
    {
     "name": "stderr",
     "output_type": "stream",
     "text": [
      "                                                                                \r"
     ]
    },
    {
     "name": "stdout",
     "output_type": "stream",
     "text": [
      "Iteration:16\tShifts:70.56990347862424\ttime taken:1.2039122581481934\n"
     ]
    },
    {
     "name": "stderr",
     "output_type": "stream",
     "text": [
      "                                                                                \r"
     ]
    },
    {
     "name": "stdout",
     "output_type": "stream",
     "text": [
      "Iteration:17\tShifts:53.95295020035813\ttime taken:1.1634669303894043\n"
     ]
    },
    {
     "name": "stderr",
     "output_type": "stream",
     "text": [
      "[Stage 39:>                                                         (0 + 2) / 2]\r"
     ]
    },
    {
     "name": "stdout",
     "output_type": "stream",
     "text": [
      "Iteration:18\tShifts:0.0\ttime taken:1.146303653717041\n",
      "Final centroids: [[59542.68604651 17758.12209302]\n",
      " [13925.54966887 43347.90066225]\n",
      " [ 7088.34666667 11170.17333333]\n",
      " [56084.33557047 35245.77852349]\n",
      " [ 5162.75838926 42433.63758389]\n",
      " [23203.99324324 44859.15540541]\n",
      " [10289.22       16705.62666667]\n",
      " [43257.42384106  4639.56953642]\n",
      " [30480.4527027  45020.29054054]\n",
      " [57887.9        59083.57333333]\n",
      " [16418.82954545 52911.36363636]\n",
      " [ 9635.12080537 29483.69127517]\n",
      " [19690.73426573 60544.46853147]\n",
      " [27408.41891892 57946.13513514]\n",
      " [17530.36       25319.5       ]\n",
      " [49874.3718593  23959.46733668]\n",
      " [26011.1        55383.26      ]\n",
      " [57649.97378277 10902.67790262]\n",
      " [47111.77419355 59097.11612903]\n",
      " [25553.4        28055.64666667]\n",
      " [30520.06722689 60468.28571429]\n",
      " [43229.93055556 54920.54861111]\n",
      " [42100.8        27942.968     ]\n",
      " [ 4725.37162162 54020.82432432]\n",
      " [ 4099.93377483 23940.06622517]\n",
      " [48201.19375    10293.525     ]\n",
      " [50913.33986928 48696.47058824]\n",
      " [10207.33552632 50195.21710526]\n",
      " [37029.75294118 57602.95294118]\n",
      " [53762.88513514 42276.2027027 ]\n",
      " [44173.43137255 45702.84313725]\n",
      " [43653.62913907 34776.30463576]\n",
      " [35449.2885906  36581.4295302 ]\n",
      " [35707.12418301 49932.80392157]\n",
      " [ 9628.26490066 38305.32450331]\n",
      " [10474.01333333 59840.45333333]\n",
      " [34393.46575342 58558.39726027]\n",
      " [59555.91390728 51744.94701987]\n",
      " [17163.58860759 13896.86708861]\n",
      " [60241.02       27570.37333333]\n",
      " [60175.53020134 45848.16107383]\n",
      " [29645.28        8821.04666667]\n",
      " [15858.67333333 37826.78      ]\n",
      " [36211.37333333  8492.88      ]\n",
      " [39304.82666667 17997.78      ]\n",
      " [16525.4         5962.70689655]\n",
      " [30135.60264901 21236.95364238]\n",
      " [17592.08695652 55377.79710145]\n",
      " [27143.02666667 15512.88666667]\n",
      " [37519.14765101 43954.46308725]]\n"
     ]
    },
    {
     "name": "stderr",
     "output_type": "stream",
     "text": [
      "                                                                                \r"
     ]
    }
   ],
   "source": [
    "def compute_distance(p, centroid):\n",
    "    return np.sqrt(np.sum((np.array(p) - np.array(centroid))**2))\n",
    "\n",
    "def kmeans(rdd, centroids, max_iters=20, tolerance=0.1):\n",
    "    for i in range(max_iters):\n",
    "        timer = time.time()\n",
    "        \n",
    "        # Broadcast the centroids to all nodes\n",
    "        broadcast_centroids = spark.sparkContext.broadcast(centroids)\n",
    "        clustered_rdd = rdd.map(lambda p: (np.argmin([compute_distance(p, c) for c in broadcast_centroids.value]), (p, 1)))\n",
    "\n",
    "        # Recompute centroids by averaging points in each cluster\n",
    "        new_centroids = (\n",
    "            clustered_rdd\n",
    "            .reduceByKey(lambda x, y: (x[0] + y[0], x[1] + y[1]))  # Sum points and count\n",
    "            .map(lambda x: (x[0], x[1][0] / x[1][1]))  # Compute new centroids\n",
    "            .collectAsMap()\n",
    "        )\n",
    "\n",
    "        new_centroids_arr = np.array([new_centroids[j] for j in range(len(centroids))], dtype=np.float64)\n",
    "        \n",
    "        # Calculate sum of shifts for each centroid\n",
    "        shifts = np.sum(np.linalg.norm(new_centroids_arr - centroids, axis=1))\n",
    "        \n",
    "        print(f\"Iteration:{i}\\tShifts:{shifts}\\ttime taken:{time.time()-timer}\")\n",
    "        if shifts < tolerance:\n",
    "            break\n",
    "\n",
    "        # Update the centroids\n",
    "        centroids = new_centroids_arr\n",
    "    \n",
    "        # Free memory\n",
    "        broadcast_centroids.unpersist()\n",
    "\n",
    "    return centroids\n",
    "\n",
    "# Run the K-Means with broadcasting\n",
    "centroids = np.array(parsed_data.takeSample(False, K, seed=RANDOM_SEED), dtype=np.float64)\n",
    "final_centroids = kmeans(parsed_data, centroids)\n",
    "print(\"Final centroids:\", final_centroids)"
   ]
  },
  {
   "cell_type": "code",
   "execution_count": 11,
   "id": "6b10ec52-e374-4603-a0c5-e33ea16a7031",
   "metadata": {},
   "outputs": [
    {
     "name": "stderr",
     "output_type": "stream",
     "text": [
      "                                                                                \r"
     ]
    },
    {
     "data": {
      "text/plain": [
       "np.float64(0.5596370095167552)"
      ]
     },
     "execution_count": 11,
     "metadata": {},
     "output_type": "execute_result"
    }
   ],
   "source": [
    "import numpy as np\n",
    "from sklearn.cluster import KMeans\n",
    "from sklearn.metrics import silhouette_score\n",
    "\n",
    "centroid_to_point = parsed_data.map(\n",
    "    lambda point: (\n",
    "        np.argmin([np.linalg.norm(point - c) for c in final_centroids]), # cluster_id\n",
    "        point # original point\n",
    "    )\n",
    ").collect()\n",
    "\n",
    "cluster_labels, data = zip(*centroid_to_point)\n",
    "silhouette = silhouette_score(data, cluster_labels)\n",
    "silhouette"
   ]
  }
 ],
 "metadata": {
  "kernelspec": {
   "display_name": "Python 3 (ipykernel)",
   "language": "python",
   "name": "python3"
  },
  "language_info": {
   "codemirror_mode": {
    "name": "ipython",
    "version": 3
   },
   "file_extension": ".py",
   "mimetype": "text/x-python",
   "name": "python",
   "nbconvert_exporter": "python",
   "pygments_lexer": "ipython3",
   "version": "3.11.8"
  }
 },
 "nbformat": 4,
 "nbformat_minor": 5
}
