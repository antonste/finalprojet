{
 "cells": [
  {
   "cell_type": "code",
   "execution_count": 4,
   "id": "19a45b79-fd9c-41fd-b42c-912c7ebb7397",
   "metadata": {},
   "outputs": [],
   "source": [
    "import numpy as np\n",
    "import matplotlib.pyplot as plt\n",
    "import time\n",
    "\n",
    "def initialize_centroids(X, k):\n",
    "    \"\"\"\n",
    "    Randomly initialize centroids from the dataset.\n",
    "    \"\"\"\n",
    "    np.random.seed(42)  # For reproducibility\n",
    "    random_indices = np.random.permutation(X.shape[0])\n",
    "    centroids = X[random_indices[:k]]\n",
    "    return centroids\n",
    "\n",
    "def compute_distances(X, centroids):\n",
    "    \"\"\"\n",
    "    Compute the distance between each data point and each centroid.\n",
    "    \"\"\"\n",
    "    distances = np.zeros((X.shape[0], len(centroids)))\n",
    "    for i, centroid in enumerate(centroids):\n",
    "        distances[:, i] = np.linalg.norm(X - centroid, axis=1)\n",
    "    return distances\n",
    "\n",
    "def assign_clusters(distances):\n",
    "    \"\"\"\n",
    "    Assign each data point to the closest centroid.\n",
    "    \"\"\"\n",
    "    return np.argmin(distances, axis=1)\n",
    "\n",
    "def update_centroids(X, labels, k):\n",
    "    \"\"\"\n",
    "    Update centroids as the mean of all points assigned to each cluster.\n",
    "    \"\"\"\n",
    "    centroids = np.zeros((k, X.shape[1]))\n",
    "    for i in range(k):\n",
    "        points = X[labels == i]\n",
    "        centroids[i] = points.mean(axis=0)\n",
    "    return centroids\n",
    "\n",
    "def kmeans(X, k, max_iters=20, tolerance=1e-4):\n",
    "    \"\"\"\n",
    "    Perform the K-Means clustering algorithm.\n",
    "    \"\"\"\n",
    "    start_time = time.time()\n",
    "    centroids = initialize_centroids(X, k)\n",
    "    for i in range(max_iters):\n",
    "        iteration_time = time.time()\n",
    "        old_centroids = centroids\n",
    "        distances = compute_distances(X, centroids)\n",
    "        labels = assign_clusters(distances)\n",
    "        centroids = update_centroids(X, labels, k)\n",
    "\n",
    "        print(f\"Iteration: {i}\\ttime taken: {time.time() - iteration_time}\")\n",
    "        \n",
    "        # Check for convergence\n",
    "        if np.all(np.abs(centroids - old_centroids) < tolerance):\n",
    "            print(f\"K-Means converged after {i+1} iterations.\")\n",
    "            break\n",
    "    return centroids, labels"
   ]
  },
  {
   "cell_type": "code",
   "execution_count": 5,
   "id": "da616cbe-880e-41a9-a772-32f3896ceee3",
   "metadata": {},
   "outputs": [],
   "source": [
    "import os \n",
    "\n",
    "A3_DATASET_URL = \"https://cs.joensuu.fi/sipu/datasets/a3.txt\"\n",
    "DATA_FOLDER = \"/home/jovyan/work/data\"\n",
    "A3_LOCAL_PATH = os.path.join(DATA_FOLDER, \"a3.txt\")\n",
    "\n",
    "k = 50  # Number of clusters\n",
    "s = 10  # Number of centroid groups\n",
    "max_iterations = 20\n",
    "num_partitions = 10\n",
    "\n",
    "\n",
    "# Download Data\n",
    "if not os.path.exists(A3_LOCAL_PATH):\n",
    "    with open(A3_LOCAL_PATH, 'wb') as file:\n",
    "        response = requests.get(A3_DATASET_URL)\n",
    "        file.write(response.content)\n",
    "\n",
    "with open(A3_LOCAL_PATH, 'r') as f:\n",
    "    data = np.array([np.array([float(x) for x in row.strip().split()]) for row in f])"
   ]
  },
  {
   "cell_type": "code",
   "execution_count": 7,
   "id": "5c6665ae-1a9c-4bbc-a23f-7bebb30275e7",
   "metadata": {},
   "outputs": [
    {
     "name": "stdout",
     "output_type": "stream",
     "text": [
      "K-Means converged after 17 iterations.\n"
     ]
    }
   ],
   "source": [
    "centroids, labels = kmeans(data, k)"
   ]
  },
  {
   "cell_type": "code",
   "execution_count": 9,
   "id": "d8697a6d-7882-4fe0-9fcb-252861a694da",
   "metadata": {},
   "outputs": [
    {
     "data": {
      "text/plain": [
       "np.float64(0.5244219454601392)"
      ]
     },
     "execution_count": 9,
     "metadata": {},
     "output_type": "execute_result"
    }
   ],
   "source": [
    "from sklearn.metrics import silhouette_score\n",
    "\n",
    "silhouette = silhouette_score(data, labels)\n",
    "silhouette"
   ]
  }
 ],
 "metadata": {
  "kernelspec": {
   "display_name": "Python 3 (ipykernel)",
   "language": "python",
   "name": "python3"
  },
  "language_info": {
   "codemirror_mode": {
    "name": "ipython",
    "version": 3
   },
   "file_extension": ".py",
   "mimetype": "text/x-python",
   "name": "python",
   "nbconvert_exporter": "python",
   "pygments_lexer": "ipython3",
   "version": "3.11.8"
  }
 },
 "nbformat": 4,
 "nbformat_minor": 5
}
